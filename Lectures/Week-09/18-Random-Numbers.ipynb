{
 "cells": [
  {
   "cell_type": "markdown",
   "metadata": {
    "slideshow": {
     "slide_type": "slide"
    }
   },
   "source": [
    "# Random Numbers\n",
    "\n",
    "<div align='center'><img src='https://raw.githubusercontent.com/PC-FSU/ISC_3313_2022/master/images/backgammon.gif' width='50%'/></div>"
   ]
  },
  {
   "cell_type": "markdown",
   "metadata": {
    "slideshow": {
     "slide_type": "slide"
    }
   },
   "source": [
    "In scientific computing and statistics random numbers are very important. \n",
    "\n",
    "This lecture will cover some techniques to create random numbers and introduce some important algorithms that make use up random numbers."
   ]
  },
  {
   "cell_type": "markdown",
   "metadata": {
    "slideshow": {
     "slide_type": "slide"
    }
   },
   "source": [
    "## Histograms\n",
    "\n",
    "Today we will be plotting plenty of histograms. \n",
    "\n",
    "A histogram is a kind of bar graph. \n",
    "\n",
    "Given some data over a range, the range is binned. \n",
    "\n",
    "We then count how much of our data falls in each bin and do a bar graph of those numbers. \n",
    "\n",
    "The `hist()` function in matplotlib.pyplot does this for us."
   ]
  },
  {
   "cell_type": "code",
   "execution_count": 5,
   "metadata": {
    "scrolled": true,
    "slideshow": {
     "slide_type": "subslide"
    }
   },
   "outputs": [
    {
     "data": {
      "image/png": "[encoded data removed]",
      "text/plain": [
       "<Figure size 432x288 with 1 Axes>"
      ]
     },
     "metadata": {
      "needs_background": "light"
     },
     "output_type": "display_data"
    }
   ],
   "source": [
    "%matplotlib inline\n",
    "import matplotlib.pyplot as plt\n",
    "import numpy as np\n",
    "\n",
    "x = np.random.normal(size=1000)\n",
    "#print(x)\n",
    "plt.hist(x,bins=21);"
   ]
  },
  {
   "cell_type": "code",
   "execution_count": 2,
   "metadata": {},
   "outputs": [
    {
     "data": {
      "text/plain": [
       "(array([4., 0., 0., 3., 0., 0., 1., 0., 0., 1.]),\n",
       " array([1. , 1.3, 1.6, 1.9, 2.2, 2.5, 2.8, 3.1, 3.4, 3.7, 4. ]),\n",
       " <BarContainer object of 10 artists>)"
      ]
     },
     "execution_count": 2,
     "metadata": {},
     "output_type": "execute_result"
    },
    {
     "data": {
      "image/png": "[encoded data removed]",
      "text/plain": [
       "<Figure size 432x288 with 1 Axes>"
      ]
     },
     "metadata": {
      "needs_background": "light"
     },
     "output_type": "display_data"
    }
   ],
   "source": [
    "a = np.array([1,2,1,3,1,2,4,1,2])\n",
    "\n",
    "1 --> 4 -->4/9\n",
    "2 --> 3 -->3/9\n",
    "3 --> 1 -->1/9\n",
    "4 --> 1 -->1/9\n",
    "\n",
    "\n",
    "\n",
    "plt.hist(a)"
   ]
  },
  {
   "cell_type": "markdown",
   "metadata": {
    "slideshow": {
     "slide_type": "subslide"
    }
   },
   "source": [
    "The `hist()` function takes in an optional second argument that specifies where the bins should be placed. "
   ]
  },
  {
   "cell_type": "code",
   "execution_count": 8,
   "metadata": {},
   "outputs": [
    {
     "data": {
      "image/png": "[encoded data removed]",
      "text/plain": [
       "<Figure size 432x288 with 1 Axes>"
      ]
     },
     "metadata": {
      "needs_background": "light"
     },
     "output_type": "display_data"
    }
   ],
   "source": [
    "plt.hist(x, bins = 21);"
   ]
  },
  {
   "cell_type": "markdown",
   "metadata": {
    "slideshow": {
     "slide_type": "slide"
    }
   },
   "source": [
    "# Probability Density Functions\n",
    "\n",
    "Before we talk about random numbers a quick word about probabilities is in order. "
   ]
  },
  {
   "cell_type": "markdown",
   "metadata": {
    "slideshow": {
     "slide_type": "slide"
    }
   },
   "source": [
    "Even though a fast-food chain might advertise a hamburger as weighing a quarter-pound, you can well imagine that it is not exactly 0.25 pounds. \n",
    "\n",
    "One randomly selected hamburger might weigh 0.22 pounds while another might weigh 0.26 pounds.  "
   ]
  },
  {
   "cell_type": "markdown",
   "metadata": {
    "slideshow": {
     "slide_type": "fragment"
    }
   },
   "source": [
    "What is the probability that a randomly selected hamburger weighs between 0.23 and 0.27 pounds? \n",
    "\n",
    "That is, if we let X denote the weight of a randomly selected quarter-pound hamburger in pounds, what is P(0.23 < X < 0.27)?\n",
    "\n",
    "*example courtesy of [Penn State](https://onlinecourses.science.psu.edu/stat414/node/97)"
   ]
  },
  {
   "cell_type": "markdown",
   "metadata": {
    "slideshow": {
     "slide_type": "subslide"
    }
   },
   "source": [
    "You might imagine that it is likely that most of the hamburgers weigh close to 0.25 pounds. Probably very few weigh 0.05 pounds or 0.5 pounds for example. "
   ]
  },
  {
   "cell_type": "markdown",
   "metadata": {
    "slideshow": {
     "slide_type": "fragment"
    }
   },
   "source": [
    "We could buy say 100 hamburgers and create a histogram of their weights:\n",
    "\n",
    "<div align='center'><img src='https://raw.githubusercontent.com/eitanlees/ISC-3313/master/images/100_burger_hist.png' width='50%'/></div>"
   ]
  },
  {
   "cell_type": "markdown",
   "metadata": {
    "slideshow": {
     "slide_type": "subslide"
    }
   },
   "source": [
    "We can take more samples. Let's try to buy 100,000 hamburgers:\n",
    "\n",
    "<div align='center'><img src='https://raw.githubusercontent.com/eitanlees/ISC-3313/master/images/100k_burger_hist.png' width='50%'/></div>"
   ]
  },
  {
   "cell_type": "markdown",
   "metadata": {
    "slideshow": {
     "slide_type": "subslide"
    }
   },
   "source": [
    "We can also refine our histogram, by making the bin sizes smaller.\n",
    "\n",
    "<div align='center'><img src='https://raw.githubusercontent.com/eitanlees/ISC-3313/master/images/100k_burger_hist_bins.png' width='50%'/></div>"
   ]
  },
  {
   "cell_type": "markdown",
   "metadata": {
    "slideshow": {
     "slide_type": "subslide"
    }
   },
   "source": [
    "If we take this the limit, i.e. buying an infinite amount of hamburgers and creating bins with length 0, we get a continuous distribution:\n",
    "\n",
    "<div align='center'><img src='https://raw.githubusercontent.com/eitanlees/ISC-3313/master/images/burger_pdf.png' width='50%'/></div>"
   ]
  },
  {
   "cell_type": "markdown",
   "metadata": {
    "slideshow": {
     "slide_type": "fragment"
    }
   },
   "source": [
    "This is called a *probability density function* (PDF for short). "
   ]
  },
  {
   "cell_type": "markdown",
   "metadata": {
    "slideshow": {
     "slide_type": "subslide"
    }
   },
   "source": [
    "A PDF, $p(x)$ has several properties:\n",
    "1. $p(x)$ is positive everywhere\n",
    "2. the probability that $x$ lies in an interval $[a,b]$ is given by $\\int_a^b p(x)\\text{d}x$\n",
    "3. consequently, the area under all of $p(x)$ is 1, i.e. $\\int_{-\\infty}^{\\infty} p(x)\\text{d}x = 1$"
   ]
  },
  {
   "cell_type": "markdown",
   "metadata": {
    "slideshow": {
     "slide_type": "subslide"
    }
   },
   "source": [
    "We are now ready to answer our hamburger question. What is the probability of buying a hamburger that weights between 0.23 and 0.27 pounds?"
   ]
  },
  {
   "cell_type": "markdown",
   "metadata": {
    "slideshow": {
     "slide_type": "fragment"
    }
   },
   "source": [
    "<div align='center'><img src='https://raw.githubusercontent.com/eitanlees/ISC-3313/master/images/filled_pdf.png' width='50%'/></div>\n",
    "\n",
    "The integral between 0.23 and 0.27 tells us that probability."
   ]
  },
  {
   "cell_type": "markdown",
   "metadata": {
    "slideshow": {
     "slide_type": "subslide"
    }
   },
   "source": [
    "If we know beforehand a formula for the PDF we may be able to do this integral analytically. \n",
    "\n",
    "Otherwise, if the PDF is of a certain type, lookup tables might exist. \n",
    "\n",
    "Failing these two options, we can always compute this integral numerically, for example using Riemann sums."
   ]
  },
  {
   "cell_type": "markdown",
   "metadata": {
    "slideshow": {
     "slide_type": "subslide"
    }
   },
   "source": [
    "It's important to know what a PDF does and does not tell us.\n",
    "\n",
    "A PDF tells us the probablity that a value $x$ lies within a given range. \n",
    "\n",
    "For continuous distributions (like this) it **does not** tell us the probablity of a single value. "
   ]
  },
  {
   "cell_type": "markdown",
   "metadata": {
    "slideshow": {
     "slide_type": "fragment"
    }
   },
   "source": [
    "If we asked what is the probability of getting a hamburger weighing exactly 0.25 pounds, this is not simply $p(0.5)$. \n",
    "\n",
    "In fact the probability of getting a hamburger weighing *exactly* 0.25 pounds is 0. \n",
    "\n",
    "This weight will always be off by at least some small amount. "
   ]
  },
  {
   "cell_type": "markdown",
   "metadata": {
    "slideshow": {
     "slide_type": "subslide"
    }
   },
   "source": [
    "## Mean\n",
    "\n",
    "If you draw a point from a distribution, what is the expected outcome? This number is called the expected value, or the *mean*. \n",
    "\n",
    "The mean for a continuous distribution is defined mathematically as: \n",
    "$$ \\mu = \\int_{-\\infty}^{\\infty} x p(x)\\text{d}x.$$\n",
    "\n",
    "To approximate the mean of a distribution, one way is to draw a large number of points $N$ and then take their average, i.e.:\n",
    "$$ \\mu \\approx \\frac{1}{N}\\sum\\limits_{i=1}^N x_i.$$"
   ]
  },
  {
   "cell_type": "markdown",
   "metadata": {
    "slideshow": {
     "slide_type": "subslide"
    }
   },
   "source": [
    "## Variance\n",
    "\n",
    "The *variance* of a distribution is the expected distance from the mean. \n",
    "\n",
    "For \"peaked\" distributions this is small, while for more \"flat\" distributions this is large. \n",
    "\n",
    "We denote the variance as $\\sigma^2$, where $\\sigma$ is the standard deviation of the distribution."
   ]
  },
  {
   "cell_type": "markdown",
   "metadata": {
    "slideshow": {
     "slide_type": "subslide"
    }
   },
   "source": [
    "For a continuous distribution, the variance is given by:\n",
    "$$ \\sigma^2 = \\int_{-\\infty}^{\\infty} (x-\\mu)^2p(x)\\text{d}x.$$\n",
    "\n",
    "To approximate the variance, one way is again to draw a large number of points $N$ and then compute their average squared distance from the mean, i.e.:\n",
    "$$ \\sigma^2 \\approx \\frac{1}{N} \\sum\\limits_{i=1}^N (x_i - \\mu)^2.$$"
   ]
  },
  {
   "cell_type": "markdown",
   "metadata": {
    "slideshow": {
     "slide_type": "subslide"
    }
   },
   "source": [
    "## Distributions\n",
    "\n",
    "A PDF may be known or unknown before we attempt an experiment. \n",
    "\n",
    "For the hamburger example above, it is in general not known. \n",
    "\n",
    "We will look at the two most common and well known: \n",
    "\n",
    "- uniform random distributions \n",
    "- normal distributions"
   ]
  },
  {
   "cell_type": "markdown",
   "metadata": {
    "slideshow": {
     "slide_type": "subslide"
    }
   },
   "source": [
    "### Uniform distribution\n",
    "\n",
    "A uniform distribution is a distribution over an interval $[a,b]$, such that all values have the same probability of being picked.\n",
    "\n",
    "In other words $p(x)$ is constant over $[a,b]$. \n",
    "\n",
    "Since $p(x)$ must integrate to 1, this means that \n",
    "\n",
    "$$p(x) = \\frac{1}{(b-a)}$$ \n",
    "\n",
    "over the interval.\n",
    "\n"
   ]
  },
  {
   "cell_type": "markdown",
   "metadata": {
    "slideshow": {
     "slide_type": "subslide"
    }
   },
   "source": [
    "<div align='center'><img src='https://raw.githubusercontent.com/eitanlees/ISC-3313/master/images/uniform.png' width='80%'/></div>"
   ]
  },
  {
   "cell_type": "markdown",
   "metadata": {
    "slideshow": {
     "slide_type": "subslide"
    }
   },
   "source": [
    "### Normal Distribution\n",
    "\n",
    "Normal distributions, also known as Gaussian or bell curve, is a very common probabilty distribution. The PDF is given by:\n",
    "\n",
    "$$ p(x) = \\frac{1}{\\sqrt{2\\pi\\sigma^2}}e^{-\\frac{(x - \\mu)^2}{2\\sigma^2}}.$$"
   ]
  },
  {
   "cell_type": "markdown",
   "metadata": {
    "slideshow": {
     "slide_type": "subslide"
    }
   },
   "source": [
    "<div align='center'><img src='https://raw.githubusercontent.com/eitanlees/ISC-3313/master/images/normal.png' width='80%'/></div>"
   ]
  },
  {
   "cell_type": "markdown",
   "metadata": {
    "slideshow": {
     "slide_type": "subslide"
    }
   },
   "source": [
    "A particularily important normal distribution is the standard normal distribution, with $\\mu = 0$ and $\\sigma=1$. This distribution. \n",
    "\n",
    "$$ N(x) = \\frac{1}{\\sqrt{2\\pi}}e^{-\\frac{x^2}{2}}.$$"
   ]
  },
  {
   "cell_type": "markdown",
   "metadata": {
    "slideshow": {
     "slide_type": "slide"
    }
   },
   "source": [
    "## Exercise\n",
    "\n",
    "Assuming that the weight of hamburgers follows a uniform distribution between 0.2 and 0.3 pounds, what is the probability of getting a hamburger weighing between 0.23 and 0.27 pounds? Use a left Riemann sum to compute this probability."
   ]
  },
  {
   "cell_type": "code",
   "execution_count": 5,
   "metadata": {},
   "outputs": [
    {
     "data": {
      "text/plain": [
       "0.40000000000000013"
      ]
     },
     "execution_count": 5,
     "metadata": {},
     "output_type": "execute_result"
    }
   ],
   "source": [
    "b = 0.3\n",
    "a = 0.2\n",
    "p_x = 1 / (b-a)\n",
    "\n",
    "#by solving integreal\n",
    "probability = p_x*(0.27-0.23)\n",
    "probability"
   ]
  },
  {
   "cell_type": "code",
   "execution_count": 18,
   "metadata": {},
   "outputs": [
    {
     "data": {
      "text/plain": [
       "0.40400000000000014"
      ]
     },
     "execution_count": 18,
     "metadata": {},
     "output_type": "execute_result"
    }
   ],
   "source": [
    "# First part\n",
    "def p(x, a, b):\n",
    "    return 1/(b-a)\n",
    "\n",
    "N = 100\n",
    "start_prob = 0.23\n",
    "end_prob = 0.27\n",
    "\n",
    "\n",
    "def left_riemann(p,N,start_prob,end_prob):\n",
    "    \n",
    "    h = (end_prob-start_prob)/N\n",
    "    x_list = np.linspace(start_prob, end_prob, N + 1)\n",
    "    \n",
    "    px_sum = 0\n",
    "    \n",
    "    for x in x_list:\n",
    "        px_sum += p(x, a=0.2, b=0.3)\n",
    "    \n",
    "    I = px_sum*h\n",
    "    \n",
    "    return I\n",
    "\n",
    "left_riemann(p,N,start_prob,end_prob)"
   ]
  },
  {
   "cell_type": "code",
   "execution_count": null,
   "metadata": {},
   "outputs": [],
   "source": []
  },
  {
   "cell_type": "markdown",
   "metadata": {
    "slideshow": {
     "slide_type": "slide"
    }
   },
   "source": [
    "## Exercise\n",
    "\n",
    "Assuming that the weight of hamburgers follows a normal distribution with mean 0.25 and variance 0.0001 (standard deviation of 0.01), what is the probability of getting a hamburger weighing between 0.23 and 0.27 pounds? Use a left Riemann sum to compute this probability.\n",
    "\n",
    "Recall the PDF for a normal distribution:\n",
    "$$ p(x) = \\frac{1}{\\sqrt{2\\pi\\sigma^2}}e^{-\\frac{(x - \\mu)^2}{2\\sigma^2}}.$$"
   ]
  },
  {
   "cell_type": "code",
   "execution_count": 8,
   "metadata": {},
   "outputs": [
    {
     "data": {
      "text/plain": [
       "0.9568731580541862"
      ]
     },
     "execution_count": 8,
     "metadata": {},
     "output_type": "execute_result"
    }
   ],
   "source": [
    "# First part\n",
    "def p(x, mean, var):\n",
    "    return (1/np.sqrt(2*3.14*var)) * np.exp(-(x-mean)**2/(2*var))\n",
    "\n",
    "\n",
    "N = 100\n",
    "start_prob = 0.23\n",
    "end_prob = 0.27\n",
    "\n",
    "\n",
    "def left_riemann(p,N,start_prob,end_prob):\n",
    "    \n",
    "    h = (end_prob-start_prob)/N\n",
    "    x_list = np.linspace(start_prob, end_prob, N + 1)\n",
    "    \n",
    "    px_sum = 0\n",
    "    \n",
    "    for x in x_list:\n",
    "        px_sum += p(x, mean=0.25, var=0.0001)\n",
    "    \n",
    "    I = px_sum*h\n",
    "    \n",
    "    return I\n",
    "\n",
    "left_riemann(p,N,start_prob,end_prob)"
   ]
  },
  {
   "cell_type": "markdown",
   "metadata": {
    "slideshow": {
     "slide_type": "slide"
    }
   },
   "source": [
    "# Random vs. Pseudo-random\n",
    "\n",
    "There are things in nature which are truly random. For example: \n",
    "* atmospheric noise\n",
    "* qunatum phenomena\n",
    "* stock markets\n",
    "\n",
    "A computer cannot directly create truly random numbers, however it can create sequences of numbers that appear random. \n",
    "\n",
    "These are known an *pseudo-random* numbers."
   ]
  },
  {
   "cell_type": "markdown",
   "metadata": {
    "slideshow": {
     "slide_type": "subslide"
    }
   },
   "source": [
    "A series of pseudo-random numbers is typically determined by a fixed number known as a *seed*. \n",
    "\n",
    "Given the same seed value, the series of pseudo-random numbers is completely determined. "
   ]
  },
  {
   "cell_type": "markdown",
   "metadata": {
    "slideshow": {
     "slide_type": "subslide"
    }
   },
   "source": [
    "For example, a common pseudo-random number generator is called the linear congruential generator (LCG), which uses the recurrence relation:\n",
    "\n",
    "$$ X_{k+1} = \\mod(aX_k + b, m),$$\n",
    "\n",
    "where $a$, $b$ and $m$ are large integers. "
   ]
  },
  {
   "cell_type": "markdown",
   "metadata": {
    "slideshow": {
     "slide_type": "fragment"
    }
   },
   "source": [
    "Once we divide $X_k$ by $m$,  $X_k$ is distributed according to a *uniform random distribution* on the interval [0,1].\n",
    "\n",
    "Common values of $a$, $b$ and $m$ are: $a=1664525$, $b=1013904223$ and $m = 2^{32}$."
   ]
  },
  {
   "cell_type": "markdown",
   "metadata": {
    "slideshow": {
     "slide_type": "subslide"
    }
   },
   "source": [
    "Here is an implementation of an LCG:"
   ]
  },
  {
   "cell_type": "code",
   "execution_count": null,
   "metadata": {},
   "outputs": [],
   "source": []
  },
  {
   "cell_type": "code",
   "execution_count": 28,
   "metadata": {},
   "outputs": [],
   "source": [
    "# initialize seed, a, b and m\n",
    "seed = 0\n",
    "a=1664525\n",
    "b=1013904223\n",
    "m=2**32\n",
    "\n",
    "# N is the number of random numbers\n",
    "N = 100000\n",
    "\n",
    "# initialize list and compute first pseudo-random number from seed\n",
    "X = np.zeros(N)\n",
    "X[0] = (a*seed + b) % m\n",
    "\n",
    "# apply reccurence relation\n",
    "for i, x in enumerate(X[:-1]):\n",
    "    X[i+1] = (a*x + b) % m\n",
    "\n",
    "# divide everything by m to get all numbers in the range [0,1]\n",
    "X /= m"
   ]
  },
  {
   "cell_type": "code",
   "execution_count": 29,
   "metadata": {
    "slideshow": {
     "slide_type": "subslide"
    }
   },
   "outputs": [
    {
     "data": {
      "image/png": "[encoded data removed]",
      "text/plain": [
       "<Figure size 432x288 with 1 Axes>"
      ]
     },
     "metadata": {
      "needs_background": "light"
     },
     "output_type": "display_data"
    }
   ],
   "source": [
    "plt.plot(X, '.');"
   ]
  },
  {
   "cell_type": "markdown",
   "metadata": {
    "slideshow": {
     "slide_type": "subslide"
    }
   },
   "source": [
    "We can do a histogram of the points to see that they are approximately uniformly distributed."
   ]
  },
  {
   "cell_type": "code",
   "execution_count": 30,
   "metadata": {},
   "outputs": [
    {
     "data": {
      "image/png": "[encoded data removed]",
      "text/plain": [
       "<Figure size 432x288 with 1 Axes>"
      ]
     },
     "metadata": {
      "needs_background": "light"
     },
     "output_type": "display_data"
    }
   ],
   "source": [
    "plt.hist(X, bins=25, density=True);"
   ]
  },
  {
   "cell_type": "markdown",
   "metadata": {
    "slideshow": {
     "slide_type": "subslide"
    }
   },
   "source": [
    "## Properties of LCG\n",
    "\n",
    "What are some of the properties of this list of numbers?\n",
    "\n",
    "* Periodicity: this sequence will eventually be periodic. The maximum period is $m$.\n",
    "* Randomness: we can think of each number as being drawn uniformly random from the interval [0,1]\n",
    "* Defects: in addition to periodicity, in $n$ dimensional space, points will lie on at most $(n!m)^{1/n}$ hyperplanes"
   ]
  },
  {
   "cell_type": "markdown",
   "metadata": {
    "slideshow": {
     "slide_type": "subslide"
    }
   },
   "source": [
    "In 2D this defect isn't so bad\n",
    "$(n!m)^{1/n} = (2m)^{1/2}$. \n",
    "\n",
    "If $m=2^{32}$ this is $2^{33/2}$ which is still quite large."
   ]
  },
  {
   "cell_type": "markdown",
   "metadata": {
    "slideshow": {
     "slide_type": "fragment"
    }
   },
   "source": [
    "In 3D however we have $(n!m)^{1/3} = (6m)^{1/3}$. \n",
    "\n",
    "If $m = 2^{32}$, this now on the order of $2^{11} = 2048$."
   ]
  },
  {
   "cell_type": "markdown",
   "metadata": {
    "slideshow": {
     "slide_type": "subslide"
    }
   },
   "source": [
    "<div align='center'><img src='https://github.com/lukasbystricky/ISC-3313/blob/master/lectures/chapter5/images/lcg.gif?raw=true' width='50%'/></div>"
   ]
  },
  {
   "cell_type": "markdown",
   "metadata": {
    "slideshow": {
     "slide_type": "slide"
    }
   },
   "source": [
    "## Numpy Random Library\n",
    "\n",
    "NumPy implements a random number library under `numpy.random`. \n",
    "\n",
    "The `rand()` function from this library returns a uniform random number on [0,1]."
   ]
  },
  {
   "cell_type": "code",
   "execution_count": 31,
   "metadata": {},
   "outputs": [
    {
     "data": {
      "text/plain": [
       "array([[0.11002175, 0.05069784, 0.75405919, 0.20307045, 0.54660862],\n",
       "       [0.25907347, 0.09763667, 0.92818503, 0.01870326, 0.83427659],\n",
       "       [0.2055725 , 0.52334485, 0.8325589 , 0.01059313, 0.34971267],\n",
       "       [0.44693737, 0.29902335, 0.30410903, 0.75235551, 0.90800549],\n",
       "       [0.99292497, 0.99841349, 0.30808061, 0.72747042, 0.98115009],\n",
       "       [0.51484524, 0.06765387, 0.30531782, 0.21194772, 0.98971796],\n",
       "       [0.99209165, 0.66734216, 0.8726546 , 0.68764193, 0.54949741],\n",
       "       [0.73612811, 0.34634175, 0.01245612, 0.27059419, 0.09034569],\n",
       "       [0.09138225, 0.04344424, 0.30433949, 0.26604785, 0.67883679],\n",
       "       [0.27887114, 0.84511609, 0.24533259, 0.41152239, 0.55286593]])"
      ]
     },
     "execution_count": 31,
     "metadata": {},
     "output_type": "execute_result"
    }
   ],
   "source": [
    "np.random.rand(10,5)"
   ]
  },
  {
   "cell_type": "code",
   "execution_count": 35,
   "metadata": {
    "slideshow": {
     "slide_type": "-"
    }
   },
   "outputs": [
    {
     "data": {
      "text/plain": [
       "0.30224046352551803"
      ]
     },
     "execution_count": 35,
     "metadata": {},
     "output_type": "execute_result"
    }
   ],
   "source": [
    "np.random.rand()"
   ]
  },
  {
   "cell_type": "markdown",
   "metadata": {
    "slideshow": {
     "slide_type": "subslide"
    }
   },
   "source": [
    "The random number generator used by NumPy is the [Mersenne Twister](https://en.wikipedia.org/wiki/Mersenne_Twister) algorithm. \n",
    "\n",
    "Like LCG this is a pseudorandom number from a seeded deterministic algorithm. \n",
    "\n",
    "The seed can be specified using the `random.seed()` function."
   ]
  },
  {
   "cell_type": "code",
   "execution_count": 47,
   "metadata": {
    "slideshow": {
     "slide_type": "fragment"
    }
   },
   "outputs": [
    {
     "data": {
      "text/plain": [
       "array([0.06748528, 0.33494299, 0.36839425, 0.48359485])"
      ]
     },
     "execution_count": 47,
     "metadata": {},
     "output_type": "execute_result"
    }
   ],
   "source": [
    "np.random.seed(1222)\n",
    "np.random.rand(4)"
   ]
  },
  {
   "cell_type": "code",
   "execution_count": 51,
   "metadata": {
    "slideshow": {
     "slide_type": "fragment"
    }
   },
   "outputs": [
    {
     "data": {
      "text/plain": [
       "array([0.37454012, 0.95071431, 0.73199394, 0.59865848])"
      ]
     },
     "execution_count": 51,
     "metadata": {},
     "output_type": "execute_result"
    }
   ],
   "source": [
    "np.random.seed(42)\n",
    "np.random.rand(4)"
   ]
  },
  {
   "cell_type": "markdown",
   "metadata": {
    "slideshow": {
     "slide_type": "subslide"
    }
   },
   "source": [
    "The `normal()` function takes in two parameters, \n",
    "\n",
    "- `loc`: which is the mean  \n",
    "- `scale`: which is the standard deviation \n",
    "\n",
    "Note that an input is the standard deviation $\\sigma$ and not the variance $\\sigma^2$."
   ]
  },
  {
   "cell_type": "code",
   "execution_count": 56,
   "metadata": {},
   "outputs": [
    {
     "name": "stdout",
     "output_type": "stream",
     "text": [
      "1.4839245431320682\n",
      "-2.826560489315596\n"
     ]
    }
   ],
   "source": [
    "x1 = np.random.normal(loc=1,scale=2) # mean is 1 and variance is 2^2 = 4\n",
    "print(x1)\n",
    "\n",
    "x2 = np.random.normal(loc=1,scale=2)\n",
    "print(x2)"
   ]
  },
  {
   "cell_type": "markdown",
   "metadata": {
    "slideshow": {
     "slide_type": "subslide"
    }
   },
   "source": [
    "As with `rand()`, an optional parameter can be input to generate multiple numbers at once."
   ]
  },
  {
   "cell_type": "code",
   "execution_count": 57,
   "metadata": {},
   "outputs": [
    {
     "name": "stdout",
     "output_type": "stream",
     "text": [
      "[[-2.44983567 -0.12457506 -1.02566224  1.62849467 -0.81604815]\n",
      " [-1.8246074   3.93129754  0.5484474   1.13505641 -1.84949637]\n",
      " [-0.08876545  1.22184518 -1.30198715  1.75139604 -0.20127738]\n",
      " [ 0.4166125  -0.20341322  4.70455637  0.97300555 -1.11542186]\n",
      " [ 2.64508982 -1.4416873   1.41772719 -2.91934025 -1.6563721 ]]\n"
     ]
    }
   ],
   "source": [
    "x = np.random.normal(loc=1,scale=2,size=(5, 5))\n",
    "print(x)"
   ]
  },
  {
   "cell_type": "markdown",
   "metadata": {
    "slideshow": {
     "slide_type": "subslide"
    }
   },
   "source": [
    "The `numpy.random` module also includes a function `randint()` that returns a random integer. This function takes in two arguments, $x_1$ and $x_2$ and returns a random integer from the range $x_1$ up to *but not including* $x_2$"
   ]
  },
  {
   "cell_type": "code",
   "execution_count": 70,
   "metadata": {
    "slideshow": {
     "slide_type": "-"
    }
   },
   "outputs": [
    {
     "name": "stdout",
     "output_type": "stream",
     "text": [
      "1017\n"
     ]
    }
   ],
   "source": [
    "x = np.random.randint(1,100000)\n",
    "print(x)"
   ]
  },
  {
   "cell_type": "markdown",
   "metadata": {
    "slideshow": {
     "slide_type": "subslide"
    }
   },
   "source": [
    "## Exercise\n",
    "\n",
    "- Using the `rand()` function, generate 1000 random numbers and plot a histogram.\n",
    "\n",
    "- Using the `normal()` function, generate 1000 random numbers from the normal distribution with mean 4 and standard deviation 2. Plot a histogram.\n",
    "\n",
    "- Create a histogram of 1000 numbers generated with the `randint()` function in the range 0 to 10. "
   ]
  },
  {
   "cell_type": "code",
   "execution_count": 79,
   "metadata": {
    "scrolled": true
   },
   "outputs": [
    {
     "data": {
      "image/png": "[encoded data removed]",
      "text/plain": [
       "<Figure size 432x288 with 1 Axes>"
      ]
     },
     "metadata": {
      "needs_background": "light"
     },
     "output_type": "display_data"
    }
   ],
   "source": [
    "# first part\n",
    "N = 1000\n",
    "pts = np.random.rand(1000)\n",
    "plt.hist(pts,bins=50);"
   ]
  },
  {
   "cell_type": "code",
   "execution_count": 81,
   "metadata": {
    "scrolled": true
   },
   "outputs": [
    {
     "data": {
      "image/png": "[encoded data removed]",
      "text/plain": [
       "<Figure size 432x288 with 1 Axes>"
      ]
     },
     "metadata": {
      "needs_background": "light"
     },
     "output_type": "display_data"
    }
   ],
   "source": [
    "# 2nd part\n",
    "N = 1000\n",
    "pts = np.random.normal(loc=4,scale=2,size=(1000, 1))\n",
    "plt.hist(pts,bins=21);"
   ]
  },
  {
   "cell_type": "code",
   "execution_count": 84,
   "metadata": {},
   "outputs": [
    {
     "data": {
      "image/png": "[encoded data removed]",
      "text/plain": [
       "<Figure size 432x288 with 1 Axes>"
      ]
     },
     "metadata": {
      "needs_background": "light"
     },
     "output_type": "display_data"
    }
   ],
   "source": [
    "# 2nd part\n",
    "N = 1000\n",
    "x = np.random.randint(1,10,size=(1000,1))\n",
    "plt.hist(x,bins=21);"
   ]
  },
  {
   "cell_type": "markdown",
   "metadata": {
    "slideshow": {
     "slide_type": "slide"
    }
   },
   "source": [
    "# Monte Carlo Simulations\n",
    "\n",
    "Probability theory lets us compute the probablility that a certain event happens. For example, we can compute the probability of rolling two consecutive ones a six sided dice:\n",
    "$$ P(\\text{two consecutive ones}) = P(\\text{one})\\times P(\\text{one}) = \\frac{1}{6}\\times\\frac{1}{6} = \\frac{1}{36}$$"
   ]
  },
  {
   "cell_type": "markdown",
   "metadata": {
    "slideshow": {
     "slide_type": "slide"
    }
   },
   "source": [
    "We can use more complicated rules to compute things like the probability of rolling at least two ones in a five run stretch. Unfortunately, these calculations can become tedious or impossible if the problem becomes too complicated. "
   ]
  },
  {
   "cell_type": "markdown",
   "metadata": {
    "slideshow": {
     "slide_type": "subslide"
    }
   },
   "source": [
    "Monte Carlo simulations are a simple numerical way to compute probabilities. \n",
    "\n",
    "Assume we are performing $N$ experiments where the outcome of each one is random. \n",
    "\n",
    "Some event $A$ takes place $M$ times in these $N$ experiments. \n",
    "\n",
    "We can estimate the probability of the event as:\n",
    "$$ P(A) \\approx \\frac{M}{N}.$$"
   ]
  },
  {
   "cell_type": "markdown",
   "metadata": {
    "slideshow": {
     "slide_type": "subslide"
    }
   },
   "source": [
    "This estimate becomes more accurate as $N$ increases and approaches the actual probability as $N\\to\\infty$. \n",
    "\n",
    "This is known as a Monte Carlo simulation. \n",
    "\n",
    "Monte Carlo methods were developped in the 1940s to help with the nuclear weapons research. \n",
    "\n",
    "They have since found uses throughout science and engineering. "
   ]
  },
  {
   "cell_type": "markdown",
   "metadata": {
    "slideshow": {
     "slide_type": "subslide"
    }
   },
   "source": [
    "## Example: Throwing Dice\n",
    "\n",
    "We'll return to our example from earlier. \n",
    "\n",
    "What is the probability of rolling two consecutive ones on a six sided dice? \n",
    "\n",
    "We know this should be $1/36$."
   ]
  },
  {
   "cell_type": "code",
   "execution_count": 85,
   "metadata": {
    "slideshow": {
     "slide_type": "subslide"
    }
   },
   "outputs": [
    {
     "name": "stdout",
     "output_type": "stream",
     "text": [
      "Actual P: 0.027777777777777776\n",
      "Simulated P: 0.028\n",
      "Simulation error: 0.00022222222222222435\n"
     ]
    }
   ],
   "source": [
    "# set N - the number of times we roll 2 dice\n",
    "N = 1000\n",
    "\n",
    "# initialize M to 0\n",
    "M = 0\n",
    "\n",
    "# we know actual probability\n",
    "p_act = 1.0/36\n",
    "\n",
    "for i in range(N):\n",
    "    \n",
    "    r1 = np.random.randint(1,7)\n",
    "    r2 = np.random.randint(1,7)\n",
    "    \n",
    "    if (r1 == 1 and r2 == 1):\n",
    "        M += 1\n",
    "\n",
    "print(\"Actual P:\", p_act)\n",
    "print(\"Simulated P:\", M/N)\n",
    "print(\"Simulation error:\", abs(p_act - M/N))"
   ]
  },
  {
   "cell_type": "markdown",
   "metadata": {
    "slideshow": {
     "slide_type": "subslide"
    }
   },
   "source": [
    "Let's try for various values of $N$:"
   ]
  },
  {
   "cell_type": "code",
   "execution_count": 86,
   "metadata": {
    "scrolled": true
   },
   "outputs": [
    {
     "name": "stdout",
     "output_type": "stream",
     "text": [
      "[0.0, 0.03, 0.022, 0.0274, 0.02775]\n"
     ]
    }
   ],
   "source": [
    "N = [10, 100, 1000, 10000, 100000]\n",
    "P = []\n",
    "P_err = []\n",
    "\n",
    "# we know actual probability\n",
    "p_act = 1.0/36\n",
    "\n",
    "for n in N:\n",
    "    M = 0\n",
    "    for i in range(n):\n",
    "        r1 = np.random.randint(1,7)\n",
    "        r2 = np.random.randint(1,7)\n",
    "        if (r1 == 1 and r2 == 1):\n",
    "            M += 1       \n",
    "    P.append(M / n)\n",
    "    P_err.append(abs(p_act - M / n))\n",
    "    \n",
    "print(P)"
   ]
  },
  {
   "cell_type": "code",
   "execution_count": 87,
   "metadata": {},
   "outputs": [
    {
     "data": {
      "text/plain": [
       "0.027777777777777776"
      ]
     },
     "execution_count": 87,
     "metadata": {},
     "output_type": "execute_result"
    }
   ],
   "source": [
    "1/36"
   ]
  },
  {
   "cell_type": "code",
   "execution_count": 88,
   "metadata": {
    "slideshow": {
     "slide_type": "subslide"
    }
   },
   "outputs": [
    {
     "data": {
      "image/png": "[encoded data removed]",
      "text/plain": [
       "<Figure size 432x288 with 1 Axes>"
      ]
     },
     "metadata": {
      "needs_background": "light"
     },
     "output_type": "display_data"
    }
   ],
   "source": [
    "plt.loglog(N,P_err, '-o');"
   ]
  },
  {
   "cell_type": "markdown",
   "metadata": {
    "slideshow": {
     "slide_type": "subslide"
    }
   },
   "source": [
    "What is the probability of rolling at least two ones in fives throws?"
   ]
  },
  {
   "cell_type": "code",
   "execution_count": 89,
   "metadata": {},
   "outputs": [
    {
     "name": "stdout",
     "output_type": "stream",
     "text": [
      "Simulated P: 0.198\n"
     ]
    }
   ],
   "source": [
    "# set N - the number of times we roll 2 dice\n",
    "N = 1000\n",
    "# initialize M to 0\n",
    "M = 0\n",
    "\n",
    "\n",
    "\n",
    "for i in range(N):\n",
    "    n_ones = 0\n",
    "    # roll 6 dice\n",
    "    for roll in range(5):\n",
    "        r = np.random.randint(1,7)\n",
    "        # check if you rolled a one\n",
    "        if r == 1:\n",
    "            n_ones += 1\n",
    "    # if you rolled at least 2 ones, mark trial as success\n",
    "    if n_ones >= 2:\n",
    "        M += 1\n",
    "\n",
    "print(\"Simulated P:\", M/N)"
   ]
  },
  {
   "cell_type": "markdown",
   "metadata": {
    "slideshow": {
     "slide_type": "slide"
    }
   },
   "source": [
    "## Exercise\n",
    "\n",
    "Imagine we flip a coin 10 times. What is the probability of us getting exactly 8 heads?\n",
    "\n",
    "Run a simulation 10000 times and plot a histogram of the number of heads for each trial."
   ]
  },
  {
   "cell_type": "code",
   "execution_count": 93,
   "metadata": {},
   "outputs": [
    {
     "name": "stdout",
     "output_type": "stream",
     "text": [
      "Simulated P: 0.0431\n"
     ]
    },
    {
     "data": {
      "image/png": "[encoded data removed]",
      "text/plain": [
       "<Figure size 432x288 with 1 Axes>"
      ]
     },
     "metadata": {
      "needs_background": "light"
     },
     "output_type": "display_data"
    }
   ],
   "source": [
    "# set N - the number of times we roll 2 dice\n",
    "N = 10000\n",
    "# initialize M to 0\n",
    "M = 0\n",
    "\n",
    "track_heads = []\n",
    "\n",
    "for i in range(N):\n",
    "    n_heads = 0\n",
    "    # flip 10 heads\n",
    "    for flip in range(10):\n",
    "        r = np.random.randint(0,2)\n",
    "        # check if you flip a head, 0 --> head, 1 --> tail\n",
    "        if r == 0:\n",
    "            n_heads += 1\n",
    "    # if you toss exactly  8 heads, mark trial as success\n",
    "    if n_heads == 8:\n",
    "        M += 1\n",
    "    \n",
    "    track_heads.append(n_heads)\n",
    "\n",
    "print(\"Simulated P:\", M/N)\n",
    "plt.hist(track_heads,bins=21);"
   ]
  },
  {
   "cell_type": "code",
   "execution_count": null,
   "metadata": {},
   "outputs": [],
   "source": []
  }
 ],
 "metadata": {
  "celltoolbar": "Slideshow",
  "kernelspec": {
   "display_name": "ml",
   "language": "python",
   "name": "ml"
  },
  "language_info": {
   "codemirror_mode": {
    "name": "ipython",
    "version": 3
   },
   "file_extension": ".py",
   "mimetype": "text/x-python",
   "name": "python",
   "nbconvert_exporter": "python",
   "pygments_lexer": "ipython3",
   "version": "3.7.9"
  }
 },
 "nbformat": 4,
 "nbformat_minor": 2
}
