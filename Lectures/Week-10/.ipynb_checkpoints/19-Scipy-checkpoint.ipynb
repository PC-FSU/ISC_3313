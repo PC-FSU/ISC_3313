{
 "cells": [
  {
   "cell_type": "markdown",
   "metadata": {
    "slideshow": {
     "slide_type": "slide"
    }
   },
   "source": [
    "# Scipy : high-level scientific computing\n",
    "\n",
    "<div align='center'><img src='https://raw.githubusercontent.com/PC-FSU/ISC_3313_2022/master/images/alcho-meter.gif' width='45%'/></div>"
   ]
  },
  {
   "cell_type": "markdown",
   "metadata": {
    "slideshow": {
     "slide_type": "subslide"
    }
   },
   "source": [
    "Quick recap of what we have covered so far:\n",
    "\n",
    "- Python Fundamentals\n",
    "    - Conditional Flow and Loops\n",
    "    - Defining Functions\n",
    "- Beyond Base Python\n",
    "    - Importing Modules\n",
    "    - Numpy\n",
    "    - Matplotlib\n",
    "- Advanced Python\n",
    "    - Classes, Attributes, Methods\n",
    "    - List Comprehension"
   ]
  },
  {
   "cell_type": "markdown",
   "metadata": {
    "slideshow": {
     "slide_type": "subslide"
    }
   },
   "source": [
    "We also covered a few special topics including \n",
    "\n",
    "- Differential Equations\n",
    "- Numerical Calculus \n",
    "- Random Numbers/ Monte Carlo"
   ]
  },
  {
   "cell_type": "markdown",
   "metadata": {
    "slideshow": {
     "slide_type": "subslide"
    }
   },
   "source": [
    "In todays class we are going to start the final chapter in our explorations of scientific computing with python"
   ]
  },
  {
   "cell_type": "markdown",
   "metadata": {
    "slideshow": {
     "slide_type": "subslide"
    }
   },
   "source": [
    "As we have already seen there is a large diverse set of packages available to tackle a wide variety of problems. Today we are going to take a deep dive into one ..."
   ]
  },
  {
   "cell_type": "markdown",
   "metadata": {
    "slideshow": {
     "slide_type": "fragment"
    }
   },
   "source": [
    "**Note**:\n",
    "Many notes and examples from today come from the [Scipy Lecture Notes](http://www.scipy-lectures.org/index.html) website which is full of great explanations and tutorials "
   ]
  },
  {
   "cell_type": "markdown",
   "metadata": {
    "slideshow": {
     "slide_type": "slide"
    }
   },
   "source": [
    "## Scipy\n",
    "\n",
    "<div align='center'><img src='https://raw.githubusercontent.com/PC-FSU/ISC_3313_2022/master/images/scipy.png' /></div>\n",
    "\n",
    "The scipy package contains various toolboxes dedicated to common issues in scientific computing. "
   ]
  },
  {
   "cell_type": "markdown",
   "metadata": {
    "slideshow": {
     "slide_type": "subslide"
    }
   },
   "source": [
    "Its different submodules correspond to different applications, such as \n",
    "\n",
    "- interpolation\n",
    "- integration\n",
    "- optimization \n",
    "- image processing\n",
    "- statistics\n",
    "- special functions\n",
    "\n",
    "and more!"
   ]
  },
  {
   "cell_type": "markdown",
   "metadata": {
    "slideshow": {
     "slide_type": "subslide"
    }
   },
   "source": [
    "Scipy can be compared to other standard scientific-computing libraries, such as the GSL (GNU Scientific Library for C and C++), or Matlab's toolboxes. \n",
    "\n",
    "Scipy is the core package for scientific routines in Python\n",
    "\n",
    "It is meant to operate efficiently on numpy arrays, so that numpy and scipy work hand in hand."
   ]
  },
  {
   "cell_type": "markdown",
   "metadata": {
    "slideshow": {
     "slide_type": "subslide"
    }
   },
   "source": [
    "Before implementing a routine, it is worth checking if the desired data processing is not already implemented in Scipy. \n",
    "\n",
    "As non-professional programmers, scientists often tend to re-invent the wheel, which leads to buggy, non-optimal, difficult-to-share and unmaintainable code. \n",
    "\n",
    "By contrast, Scipy's routines are optimized and tested, and should therefore be used when possible."
   ]
  },
  {
   "cell_type": "markdown",
   "metadata": {
    "slideshow": {
     "slide_type": "subslide"
    }
   },
   "source": [
    "Scipy is a very large module which has been broken down into sub-modules. [Check out the docs!](https://docs.scipy.org/doc/scipy/reference/)\n",
    "\n",
    "Our goal for this week is to explore:\n",
    "\n",
    "- Statistics (scipy.stats)\n",
    "- Interpolation (scipy.interpolate)\n",
    "- Linear Algebra (scipy.linalg)\n",
    "- Integration (scipy.integrate)\n",
    "- Optimization (scipy.optimize)"
   ]
  },
  {
   "cell_type": "markdown",
   "metadata": {
    "slideshow": {
     "slide_type": "slide"
    }
   },
   "source": [
    "## Interpolation (scipy.interpolate)\n",
    "\n",
    "There are several general interpolation facilities available in SciPy, for data in 1, 2, and higher dimensions. \n",
    "\n",
    "`scipy.interpolate` is useful for fitting a function from experimental data and thus evaluating points where no measure exists."
   ]
  },
  {
   "cell_type": "markdown",
   "metadata": {
    "slideshow": {
     "slide_type": "subslide"
    }
   },
   "source": [
    "The `interp1d` function, when given arrays describing X and Y data, returns and object that behaves like a function that can be called for an arbitrary value of x (in the range covered by X), and it returns the corresponding interpolated y value"
   ]
  },
  {
   "cell_type": "markdown",
   "metadata": {
    "slideshow": {
     "slide_type": "subslide"
    }
   },
   "source": [
    "Lets see a quick example. Suppose you have some data which you would like to interpolate. "
   ]
  },
  {
   "cell_type": "code",
   "execution_count": 1,
   "metadata": {},
   "outputs": [],
   "source": [
    "import numpy as np\n",
    "import matplotlib.pyplot as plt\n",
    "from scipy import interpolate"
   ]
  },
  {
   "cell_type": "code",
   "execution_count": 2,
   "metadata": {},
   "outputs": [],
   "source": [
    "time = np.linspace(0, 1, 10)\n",
    "measures = np.array([ 0.07400971,  0.55055939,  0.97729201,  \n",
    "                     0.79949394,  0.42167574,  -0.4276238 , \n",
    "                     -0.895968  , -1.07955724, -0.56764597, \n",
    "                     0.05896949])"
   ]
  },
  {
   "cell_type": "code",
   "execution_count": 3,
   "metadata": {
    "slideshow": {
     "slide_type": "subslide"
    }
   },
   "outputs": [
    {
     "data": {
      "text/plain": [
       "[<matplotlib.lines.Line2D at 0x7f7be4b910d0>]"
      ]
     },
     "execution_count": 3,
     "metadata": {},
     "output_type": "execute_result"
    },
    {
     "data": {
      "image/png": "[encoded data removed]",
      "text/plain": [
       "<Figure size 432x288 with 1 Axes>"
      ]
     },
     "metadata": {
      "needs_background": "light"
     },
     "output_type": "display_data"
    }
   ],
   "source": [
    "plt.plot(time, measures, 'o')"
   ]
  },
  {
   "cell_type": "markdown",
   "metadata": {
    "slideshow": {
     "slide_type": "subslide"
    }
   },
   "source": [
    "Now we will pass our X and Y values to the `interp1d` functions which returns a function like object"
   ]
  },
  {
   "cell_type": "code",
   "execution_count": 4,
   "metadata": {},
   "outputs": [],
   "source": [
    "linear_results = interpolate.interp1d(time, measures)"
   ]
  },
  {
   "cell_type": "code",
   "execution_count": 5,
   "metadata": {},
   "outputs": [
    {
     "data": {
      "text/plain": [
       "<scipy.interpolate.interpolate.interp1d at 0x7f7bb67f0cb0>"
      ]
     },
     "execution_count": 5,
     "metadata": {},
     "output_type": "execute_result"
    }
   ],
   "source": [
    "linear_results"
   ]
  },
  {
   "cell_type": "code",
   "execution_count": 5,
   "metadata": {
    "slideshow": {
     "slide_type": "fragment"
    }
   },
   "outputs": [
    {
     "data": {
      "text/plain": [
       "array(-0.03464686)"
      ]
     },
     "execution_count": 5,
     "metadata": {},
     "output_type": "execute_result"
    }
   ],
   "source": [
    "linear_results(0.9834)"
   ]
  },
  {
   "cell_type": "code",
   "execution_count": 6,
   "metadata": {},
   "outputs": [
    {
     "data": {
      "text/plain": [
       "array(0.89194549)"
      ]
     },
     "execution_count": 6,
     "metadata": {},
     "output_type": "execute_result"
    }
   ],
   "source": [
    "linear_results(0.2)"
   ]
  },
  {
   "cell_type": "markdown",
   "metadata": {
    "slideshow": {
     "slide_type": "subslide"
    }
   },
   "source": [
    "Because this behaves just like a function we can plot it like any other function"
   ]
  },
  {
   "cell_type": "code",
   "execution_count": 10,
   "metadata": {
    "slideshow": {
     "slide_type": "fragment"
    }
   },
   "outputs": [
    {
     "data": {
      "text/plain": [
       "[<matplotlib.lines.Line2D at 0x7f7bb6614a50>]"
      ]
     },
     "execution_count": 10,
     "metadata": {},
     "output_type": "execute_result"
    },
    {
     "data": {
      "image/png": "[encoded data removed]",
      "text/plain": [
       "<Figure size 432x288 with 1 Axes>"
      ]
     },
     "metadata": {
      "needs_background": "light"
     },
     "output_type": "display_data"
    }
   ],
   "source": [
    "x = np.linspace(time.min(), time.max(), 100)\n",
    "plt.plot(time, measures, 'o')\n",
    "plt.plot(x, linear_results(x))\n",
    "#x"
   ]
  },
  {
   "cell_type": "markdown",
   "metadata": {
    "slideshow": {
     "slide_type": "subslide"
    }
   },
   "source": [
    "There are other kinds of interpolation instead of linear such as 'cubic' or 'quadratic'. These can be produced by passing an extra keyword, `kind`, to the `interp1d` function"
   ]
  },
  {
   "cell_type": "code",
   "execution_count": 12,
   "metadata": {},
   "outputs": [],
   "source": [
    "cubic_results = interpolate.interp1d(time, measures, kind='cubic')"
   ]
  },
  {
   "cell_type": "code",
   "execution_count": 13,
   "metadata": {
    "slideshow": {
     "slide_type": "subslide"
    }
   },
   "outputs": [
    {
     "data": {
      "text/plain": [
       "<matplotlib.legend.Legend at 0x7f7bb6607b10>"
      ]
     },
     "execution_count": 13,
     "metadata": {},
     "output_type": "execute_result"
    },
    {
     "data": {
      "image/png": "[encoded data removed]",
      "text/plain": [
       "<Figure size 432x288 with 1 Axes>"
      ]
     },
     "metadata": {
      "needs_background": "light"
     },
     "output_type": "display_data"
    }
   ],
   "source": [
    "x = np.linspace(time.min(), time.max(), 100)\n",
    "plt.plot(time, measures, 'o', label='Data')\n",
    "plt.plot(x, linear_results(x), label='Linear')\n",
    "plt.plot(x, cubic_results(x), label='Cubic')\n",
    "plt.legend()"
   ]
  },
  {
   "cell_type": "markdown",
   "metadata": {
    "slideshow": {
     "slide_type": "subslide"
    }
   },
   "source": [
    "`interp2d` is similar to `interp1d`, but for 2-D arrays. \n",
    "\n",
    "Note that for the _interp_ family, the interpolation points must stay within the range of given data points."
   ]
  },
  {
   "cell_type": "markdown",
   "metadata": {
    "slideshow": {
     "slide_type": "slide"
    }
   },
   "source": [
    "## Exercise\n",
    "\n",
    "Below is the data from homework 2 question 3. Use `interp1d` to interpolate the data with a linear and quadratic fit. Plot them all together like above. "
   ]
  },
  {
   "cell_type": "code",
   "execution_count": 16,
   "metadata": {
    "slideshow": {
     "slide_type": "slide"
    }
   },
   "outputs": [
    {
     "data": {
      "text/plain": [
       "<matplotlib.legend.Legend at 0x7f7bb6559ed0>"
      ]
     },
     "execution_count": 16,
     "metadata": {},
     "output_type": "execute_result"
    },
    {
     "data": {
      "image/png": "[encoded data removed]",
      "text/plain": [
       "<Figure size 432x288 with 1 Axes>"
      ]
     },
     "metadata": {
      "needs_background": "light"
     },
     "output_type": "display_data"
    }
   ],
   "source": [
    "xn = np.array([0.        , 0.62831853, \n",
    "              1.25663706, 1.88495559, \n",
    "              2.51327412, 3.14159265, \n",
    "              3.76991118, 4.39822972, \n",
    "              5.02654825, 5.65486678,\n",
    "              6.28318531])\n",
    "\n",
    "yn = np.array([0.            ,  5.87785252e-01,  \n",
    "              9.51056516e-01,  9.51056516e-01, \n",
    "              5.87785252e-01,  1.22464680e-16, \n",
    "              -5.87785252e-01, -9.51056516e-01,\n",
    "              -9.51056516e-01, -5.87785252e-01, \n",
    "              -2.44929360e-16])\n",
    "\n",
    "linear_results = interpolate.interp1d(xn, yn)\n",
    "quadratic_results = interpolate.interp1d(xn, yn, kind='quadratic')\n",
    "\n",
    "\n",
    "x = np.linspace(0, 6.28, 100)\n",
    "plt.plot(xn, yn, 'o', label='Data')\n",
    "plt.plot(x, linear_results(x), label='Linear')\n",
    "plt.plot(x, quadratic_results(x), label='Quadratic')\n",
    "plt.legend()"
   ]
  },
  {
   "cell_type": "markdown",
   "metadata": {
    "slideshow": {
     "slide_type": "slide"
    }
   },
   "source": [
    "## Statistics\n",
    "\n",
    "The `scipy.stats` module contains a large number of statistical distributions, statistical functions and tests.\n",
    "\n",
    "[See the docs for a quick reference](https://docs.scipy.org/doc/scipy/reference/stats.html)"
   ]
  },
  {
   "cell_type": "markdown",
   "metadata": {
    "slideshow": {
     "slide_type": "slide"
    }
   },
   "source": [
    "## Normal Distribution\n",
    "\n",
    "We will start by exploring the Normal distribution. \n",
    "\n",
    "$$\n",
    "\\mathcal{N}(x\\;|\\;\\mu ,\\sigma ^{2})={\\frac {1}{\\sqrt {2\\pi \\sigma ^{2}}}}\\;e^{-{\\frac {(x-\\mu )^{2}}{2\\sigma ^{2}}}}\n",
    "$$"
   ]
  },
  {
   "cell_type": "markdown",
   "metadata": {
    "slideshow": {
     "slide_type": "slide"
    }
   },
   "source": [
    "All statistical distribution objects in `scipy.stats` package contain useful methods. The `norm` class has:\n",
    "\n",
    "- `pdf(x)` to calculate the Probability density function at x.\n",
    "- `cdf(x)` to calculate the Cumulative distribution function at x.\n",
    "- `interval(alpha)` to calculate the endpoints of the range that contains alpha percent of the distribution\n",
    "- `rvs(size)` to generate random variates of abitrary size.\n",
    "- `fit(data)` to estimate the parameters for generic data.\n",
    "\n",
    "and many more"
   ]
  },
  {
   "cell_type": "markdown",
   "metadata": {
    "slideshow": {
     "slide_type": "slide"
    }
   },
   "source": [
    "The `stats.norm` class by default creates a standard normal distribution with mean 0 and standard deviation of 1. "
   ]
  },
  {
   "cell_type": "code",
   "execution_count": 18,
   "metadata": {
    "slideshow": {
     "slide_type": "subslide"
    }
   },
   "outputs": [
    {
     "name": "stdout",
     "output_type": "stream",
     "text": [
      "0.0\n",
      "1.0\n"
     ]
    }
   ],
   "source": [
    "from scipy import stats\n",
    "\n",
    "dist = stats.norm()\n",
    "\n",
    "print(dist.mean())\n",
    "print(dist.std())"
   ]
  },
  {
   "cell_type": "markdown",
   "metadata": {
    "slideshow": {
     "slide_type": "subslide"
    }
   },
   "source": [
    "Let's plot the PDF"
   ]
  },
  {
   "cell_type": "code",
   "execution_count": null,
   "metadata": {},
   "outputs": [],
   "source": []
  },
  {
   "cell_type": "code",
   "execution_count": 19,
   "metadata": {},
   "outputs": [
    {
     "data": {
      "image/png": "[encoded data removed]",
      "text/plain": [
       "<Figure size 432x288 with 1 Axes>"
      ]
     },
     "metadata": {
      "needs_background": "light"
     },
     "output_type": "display_data"
    }
   ],
   "source": [
    "fig, ax = plt.subplots()\n",
    "\n",
    "x = np.linspace(-5, 5, 200)\n",
    "\n",
    "ax.plot(x, dist.pdf(x))\n",
    "ax.set(title='Probability Density Function',\n",
    "           xlabel='$x$', \n",
    "           ylabel='$\\mathcal{N}(x)$');"
   ]
  },
  {
   "cell_type": "markdown",
   "metadata": {
    "slideshow": {
     "slide_type": "slide"
    }
   },
   "source": [
    "### Location and Shape Parameteres"
   ]
  },
  {
   "cell_type": "markdown",
   "metadata": {
    "slideshow": {
     "slide_type": "subslide"
    }
   },
   "source": [
    "We can pass to the distribution object a parameter `loc` which controls the mean and `scale` which controls the standard deviation. Lets create a variety of distributions by varying these paramerters"
   ]
  },
  {
   "cell_type": "code",
   "execution_count": 21,
   "metadata": {},
   "outputs": [
    {
     "data": {
      "text/plain": [
       "array([[ 0. ,  0.2],\n",
       "       [ 0. ,  1. ],\n",
       "       [ 0. ,  5. ],\n",
       "       [-2. ,  0.5]])"
      ]
     },
     "execution_count": 21,
     "metadata": {},
     "output_type": "execute_result"
    }
   ],
   "source": [
    "parameters = np.array([\n",
    "            [0,  0.2],\n",
    "            [0,  1.0],\n",
    "            [0,  5.0], \n",
    "            [-2, 0.5]])\n",
    "parameters"
   ]
  },
  {
   "cell_type": "code",
   "execution_count": 22,
   "metadata": {
    "slideshow": {
     "slide_type": "subslide"
    }
   },
   "outputs": [
    {
     "data": {
      "image/png": "[encoded data removed]",
      "text/plain": [
       "<Figure size 432x288 with 1 Axes>"
      ]
     },
     "metadata": {
      "needs_background": "light"
     },
     "output_type": "display_data"
    }
   ],
   "source": [
    "fig, ax = plt.subplots()\n",
    "\n",
    "for mean, var in parameters:\n",
    "    \n",
    "    dist = stats.norm(loc=mean, scale=np.sqrt(var))\n",
    "    \n",
    "    ax.plot(x, dist.pdf(x), \n",
    "            label = f'$\\mu = {mean},\\quad \\sigma^2 = {var}$')\n",
    "    ax.set(title='Probability Density Function',\n",
    "       xlabel='$x$', \n",
    "       ylabel='$\\mathcal{N}(x)$')\n",
    "    ax.legend()\n",
    "    \n",
    "plt.tight_layout()"
   ]
  },
  {
   "cell_type": "markdown",
   "metadata": {
    "slideshow": {
     "slide_type": "slide"
    }
   },
   "source": [
    "### Random Variate Samples\n",
    "\n",
    "To sample a distribution the `rvs` method is used. For reproducibility I will set the `random_state`. "
   ]
  },
  {
   "cell_type": "code",
   "execution_count": 28,
   "metadata": {},
   "outputs": [
    {
     "data": {
      "image/png": "[encoded data removed]",
      "text/plain": [
       "<Figure size 432x288 with 1 Axes>"
      ]
     },
     "metadata": {
      "needs_background": "light"
     },
     "output_type": "display_data"
    }
   ],
   "source": [
    "dist = stats.norm(loc=2, scale = 1)\n",
    "samples = dist.rvs(100000, random_state=0)\n",
    "\n",
    "plt.hist(samples, bins=50);"
   ]
  },
  {
   "cell_type": "markdown",
   "metadata": {
    "slideshow": {
     "slide_type": "slide"
    }
   },
   "source": [
    "### Parameter Fitting\n",
    "\n",
    "Often we are interested in fitting the parameters of a distribution to data we have collected. \n",
    "\n",
    "Lets generate some data first. "
   ]
  },
  {
   "cell_type": "code",
   "execution_count": 33,
   "metadata": {},
   "outputs": [],
   "source": [
    "data = stats.norm.rvs(loc=5, scale=3, size=10000, random_state=42)\n",
    "#data"
   ]
  },
  {
   "cell_type": "markdown",
   "metadata": {
    "slideshow": {
     "slide_type": "subslide"
    }
   },
   "source": [
    "The `fit` method returns the shape parameters that best fit the given data"
   ]
  },
  {
   "cell_type": "code",
   "execution_count": 34,
   "metadata": {},
   "outputs": [
    {
     "name": "stdout",
     "output_type": "stream",
     "text": [
      "Best fit mean: \t4.993592049894722\n",
      "Best fit std: \t3.0102366183899627\n"
     ]
    }
   ],
   "source": [
    "mu, std = stats.norm.fit(data)\n",
    "print(f'Best fit mean: \\t{mu}')\n",
    "print(f'Best fit std: \\t{std}')"
   ]
  },
  {
   "cell_type": "markdown",
   "metadata": {
    "slideshow": {
     "slide_type": "subslide"
    }
   },
   "source": [
    "We can use these values to overlay the fitted distribution onto a normalised histogram of the data"
   ]
  },
  {
   "cell_type": "code",
   "execution_count": 36,
   "metadata": {},
   "outputs": [
    {
     "data": {
      "image/png": "[encoded data removed]",
      "text/plain": [
       "<Figure size 432x288 with 1 Axes>"
      ]
     },
     "metadata": {
      "needs_background": "light"
     },
     "output_type": "display_data"
    }
   ],
   "source": [
    "# Plotting the histogram of the data\n",
    "plt.hist(data, bins=50, density=True)\n",
    "\n",
    "# Plotting the PDF of the fitted distribuiton\n",
    "xmin, xmax = plt.xlim()\n",
    "x = np.linspace(xmin, xmax, 100)\n",
    "fitted_dist = stats.norm(mu, std)\n",
    "\n",
    "plt.plot(x, fitted_dist.pdf(x), 'k--', linewidth=2)\n",
    "plt.title(f\"Fit: $\\mu$ = {mu:.2f},  $\\sigma$ = {std:.2f}\");"
   ]
  },
  {
   "cell_type": "markdown",
   "metadata": {
    "slideshow": {
     "slide_type": "slide"
    }
   },
   "source": [
    "## Other Distributions\n",
    "\n",
    "There are many different distributions we can choose from such as the Chi Squared distribution. \n",
    "\n",
    "$$\n",
    "P(x) = {\\frac {1}{2^{k/2}\\Gamma (k/2)}}\\;x^{{\\frac {k}{2}}-1}e^{-{\\frac {x}{2}}}\n",
    "$$\n",
    "\n",
    "Often it can be useful to vary a shape parameter and see how it affects the distribution."
   ]
  },
  {
   "cell_type": "code",
   "execution_count": 37,
   "metadata": {
    "slideshow": {
     "slide_type": "subslide"
    }
   },
   "outputs": [
    {
     "data": {
      "text/plain": [
       "Text(0.5, 1.0, '$\\\\chi^2_k$ for k degrees of freedom')"
      ]
     },
     "execution_count": 37,
     "metadata": {},
     "output_type": "execute_result"
    },
    {
     "data": {
      "image/png": "[encoded data removed]",
      "text/plain": [
       "<Figure size 432x288 with 1 Axes>"
      ]
     },
     "metadata": {
      "needs_background": "light"
     },
     "output_type": "display_data"
    }
   ],
   "source": [
    "x = np.linspace(0, 8, 100)\n",
    "for i in range(1, 7):\n",
    "    dist = stats.chi2(i)\n",
    "    plt.plot(x, dist.pdf(x), label=f'$k={i}$')\n",
    "    plt.ylim(-.01, 0.5)\n",
    "    plt.legend(ncol=2)\n",
    "\n",
    "plt.title('$\\chi^2_k$ for k degrees of freedom')"
   ]
  },
  {
   "cell_type": "markdown",
   "metadata": {
    "slideshow": {
     "slide_type": "slide"
    }
   },
   "source": [
    "## Exercise:\n",
    "\n",
    "- Generate 1000 random variates from a gamma distribution with a shape parameter of 2\n",
    "\n",
    "- plot a histogram from those samples. \n",
    "\n",
    "- Plot the pdf on top\n",
    "\n",
    "- Recover the shape parameter by using the fit method on your random variates"
   ]
  },
  {
   "cell_type": "code",
   "execution_count": 52,
   "metadata": {},
   "outputs": [
    {
     "data": {
      "text/plain": [
       "Text(0.5, 1.0, 'gamma distribution')"
      ]
     },
     "execution_count": 52,
     "metadata": {},
     "output_type": "execute_result"
    },
    {
     "data": {
      "image/png": "[encoded data removed]",
      "text/plain": [
       "<Figure size 432x288 with 1 Axes>"
      ]
     },
     "metadata": {
      "needs_background": "light"
     },
     "output_type": "display_data"
    }
   ],
   "source": [
    "x = np.linspace(0, 12, 100)\n",
    "\n",
    "dist = stats.gamma(2)\n",
    "samples = dist.rvs(10000)\n",
    "plt.hist(samples,bins=50, density=True)\n",
    "plt.plot(x, dist.pdf(x), label=f'$k={2}$')\n",
    "#plt.ylim(-.01, 0.5)\n",
    "plt.legend(ncol=2)\n",
    "\n",
    "\n",
    "plt.title('gamma distribution')"
   ]
  },
  {
   "cell_type": "code",
   "execution_count": 53,
   "metadata": {},
   "outputs": [
    {
     "data": {
      "text/plain": [
       "(1.9773845355264754, -0.000935299173893055, 1.0155654044270754)"
      ]
     },
     "execution_count": 53,
     "metadata": {},
     "output_type": "execute_result"
    }
   ],
   "source": [
    "stats.gamma.fit(samples)"
   ]
  },
  {
   "cell_type": "markdown",
   "metadata": {
    "slideshow": {
     "slide_type": "slide"
    }
   },
   "source": [
    "## Linear Algebra"
   ]
  },
  {
   "cell_type": "markdown",
   "metadata": {
    "slideshow": {
     "slide_type": "subslide"
    }
   },
   "source": [
    "The linear algebra module contains a lot of matrix related functions, including:\n",
    "\n",
    "- linear equation solving\n",
    "- eigenvalue solvers\n",
    "- matrix functions (for example matrix-exponentiation)\n",
    "- a number of different decompositions (SVD, LU, cholesky), etc. \n",
    "\n",
    "Detailed documetation is available at: http://docs.scipy.org/doc/scipy/reference/linalg.html"
   ]
  },
  {
   "cell_type": "markdown",
   "metadata": {
    "slideshow": {
     "slide_type": "slide"
    }
   },
   "source": [
    "### Linear equation systems"
   ]
  },
  {
   "cell_type": "markdown",
   "metadata": {},
   "source": [
    "Linear equation systems of the matrix form\n",
    "\n",
    "$$A x = b$$\n",
    "\n",
    "where $A$ is a matrix and $x,b$ are vectors can be solved using `scipy.linalg`"
   ]
  },
  {
   "cell_type": "code",
   "execution_count": 54,
   "metadata": {},
   "outputs": [],
   "source": [
    "from scipy import linalg"
   ]
  },
  {
   "cell_type": "code",
   "execution_count": 55,
   "metadata": {
    "slideshow": {
     "slide_type": "subslide"
    }
   },
   "outputs": [],
   "source": [
    "A = np.array([[1,2,3], [4,5,6], [7,8,9]])\n",
    "b = np.array([1,2,3])"
   ]
  },
  {
   "cell_type": "code",
   "execution_count": 56,
   "metadata": {
    "slideshow": {
     "slide_type": "fragment"
    }
   },
   "outputs": [
    {
     "name": "stderr",
     "output_type": "stream",
     "text": [
      "/home/pc19d/.conda/envs/ml/lib/python3.7/site-packages/ipykernel_launcher.py:1: LinAlgWarning: Ill-conditioned matrix (rcond=2.20282e-18): result may not be accurate.\n",
      "  \"\"\"Entry point for launching an IPython kernel.\n"
     ]
    },
    {
     "data": {
      "text/plain": [
       "array([-0.23333333,  0.46666667,  0.1       ])"
      ]
     },
     "execution_count": 56,
     "metadata": {},
     "output_type": "execute_result"
    }
   ],
   "source": [
    "x = linalg.solve(A, b)\n",
    "x"
   ]
  },
  {
   "cell_type": "markdown",
   "metadata": {
    "slideshow": {
     "slide_type": "subslide"
    }
   },
   "source": [
    "We can check if our solution is correct by rearranging the linear system \n",
    "\n",
    "$$A x  - b = 0$$"
   ]
  },
  {
   "cell_type": "code",
   "execution_count": 23,
   "metadata": {
    "slideshow": {
     "slide_type": "fragment"
    }
   },
   "outputs": [
    {
     "data": {
      "text/plain": [
       "array([ 0.00000000e+00, -2.22044605e-16,  0.00000000e+00])"
      ]
     },
     "execution_count": 23,
     "metadata": {},
     "output_type": "execute_result"
    }
   ],
   "source": [
    "A.dot(x) - b"
   ]
  },
  {
   "cell_type": "markdown",
   "metadata": {
    "slideshow": {
     "slide_type": "subslide"
    }
   },
   "source": [
    "We can also do the same with\n",
    "\n",
    "$$A X = B$$\n",
    "\n",
    "where $A, B, X$ are matrices:"
   ]
  },
  {
   "cell_type": "code",
   "execution_count": 57,
   "metadata": {},
   "outputs": [],
   "source": [
    "A = np.random.rand(3,3)\n",
    "B = np.random.rand(3,3)"
   ]
  },
  {
   "cell_type": "code",
   "execution_count": 58,
   "metadata": {},
   "outputs": [],
   "source": [
    "X = linalg.solve(A, B)"
   ]
  },
  {
   "cell_type": "code",
   "execution_count": 59,
   "metadata": {},
   "outputs": [
    {
     "data": {
      "text/plain": [
       "array([[-0.92220386, -0.1455425 ,  2.66174938],\n",
       "       [ 1.08853538,  1.24180425, -1.46343721],\n",
       "       [-0.17865847, -0.09793798,  1.06166058]])"
      ]
     },
     "execution_count": 59,
     "metadata": {},
     "output_type": "execute_result"
    }
   ],
   "source": [
    "X"
   ]
  },
  {
   "cell_type": "code",
   "execution_count": 27,
   "metadata": {
    "slideshow": {
     "slide_type": "subslide"
    }
   },
   "outputs": [
    {
     "data": {
      "text/plain": [
       "2.5146000066436358e-15"
      ]
     },
     "execution_count": 27,
     "metadata": {},
     "output_type": "execute_result"
    }
   ],
   "source": [
    "# check\n",
    "linalg.norm(A.dot(X) - B)"
   ]
  },
  {
   "cell_type": "markdown",
   "metadata": {
    "slideshow": {
     "slide_type": "slide"
    }
   },
   "source": [
    "### Eigenvalues and eigenvectors"
   ]
  },
  {
   "cell_type": "markdown",
   "metadata": {},
   "source": [
    "The eigenvalue problem for a matrix $A$:\n",
    "\n",
    "$$A v_n = \\lambda_n v_n$$\n",
    "\n",
    "where $v_n$ is the $n$th eigenvector and $\\lambda_n$ is the $n$th eigenvalue."
   ]
  },
  {
   "cell_type": "markdown",
   "metadata": {
    "slideshow": {
     "slide_type": "subslide"
    }
   },
   "source": [
    "To calculate eigenvalues of a matrix, use the `eigvals` and for calculating both eigenvalues and eigenvectors, use the function `eig`"
   ]
  },
  {
   "cell_type": "code",
   "execution_count": 28,
   "metadata": {},
   "outputs": [],
   "source": [
    "evals = linalg.eigvals(A)"
   ]
  },
  {
   "cell_type": "code",
   "execution_count": 29,
   "metadata": {},
   "outputs": [
    {
     "data": {
      "text/plain": [
       "array([ 1.16080926+0.j, -0.02989456+0.j, -0.29855369+0.j])"
      ]
     },
     "execution_count": 29,
     "metadata": {},
     "output_type": "execute_result"
    }
   ],
   "source": [
    "evals"
   ]
  },
  {
   "cell_type": "code",
   "execution_count": 30,
   "metadata": {
    "slideshow": {
     "slide_type": "subslide"
    }
   },
   "outputs": [],
   "source": [
    "evals, evecs = linalg.eig(A)"
   ]
  },
  {
   "cell_type": "code",
   "execution_count": 31,
   "metadata": {},
   "outputs": [
    {
     "data": {
      "text/plain": [
       "array([ 1.16080926+0.j, -0.02989456+0.j, -0.29855369+0.j])"
      ]
     },
     "execution_count": 31,
     "metadata": {},
     "output_type": "execute_result"
    }
   ],
   "source": [
    "evals"
   ]
  },
  {
   "cell_type": "code",
   "execution_count": 32,
   "metadata": {},
   "outputs": [
    {
     "data": {
      "text/plain": [
       "array([[-0.50919679, -0.64453716,  0.41256405],\n",
       "       [-0.71231932,  0.71794889, -0.86014026],\n",
       "       [-0.48303191,  0.26290918,  0.29991604]])"
      ]
     },
     "execution_count": 32,
     "metadata": {},
     "output_type": "execute_result"
    }
   ],
   "source": [
    "evecs"
   ]
  },
  {
   "cell_type": "markdown",
   "metadata": {
    "slideshow": {
     "slide_type": "subslide"
    }
   },
   "source": [
    "The eigenvectors corresponding to the $n$th eigenvalue (stored in `evals[n]`) is the $n$th *column* in `evecs`, i.e., `evecs[:,n]`. "
   ]
  },
  {
   "cell_type": "markdown",
   "metadata": {
    "slideshow": {
     "slide_type": "subslide"
    }
   },
   "source": [
    "To verify this, let's try mutiplying eigenvectors with the matrix and compare to the product of the eigenvector and the eigenvalue\n",
    "\n",
    "$$A v_n - \\lambda_n v_n = 0$$"
   ]
  },
  {
   "cell_type": "code",
   "execution_count": 33,
   "metadata": {},
   "outputs": [
    {
     "data": {
      "text/plain": [
       "4.473030819226813e-16"
      ]
     },
     "execution_count": 33,
     "metadata": {},
     "output_type": "execute_result"
    }
   ],
   "source": [
    "n = 1\n",
    "\n",
    "linalg.norm(A.dot(evecs[:,n]) - evals[n] * evecs[:,n])"
   ]
  },
  {
   "cell_type": "markdown",
   "metadata": {
    "slideshow": {
     "slide_type": "subslide"
    }
   },
   "source": [
    "### Matrix operations"
   ]
  },
  {
   "cell_type": "code",
   "execution_count": 34,
   "metadata": {},
   "outputs": [
    {
     "data": {
      "text/plain": [
       "array([[-23.29594276,  -0.45418482,  26.13574877],\n",
       "       [ 26.43220127,   0.03693778, -26.64805993],\n",
       "       [ 10.41106398,   1.74028153, -12.67990764]])"
      ]
     },
     "execution_count": 34,
     "metadata": {},
     "output_type": "execute_result"
    }
   ],
   "source": [
    "# the matrix inverse\n",
    "linalg.inv(A)"
   ]
  },
  {
   "cell_type": "code",
   "execution_count": 35,
   "metadata": {},
   "outputs": [
    {
     "data": {
      "text/plain": [
       "0.010360375716076375"
      ]
     },
     "execution_count": 35,
     "metadata": {},
     "output_type": "execute_result"
    }
   ],
   "source": [
    "# determinant\n",
    "linalg.det(A)"
   ]
  },
  {
   "cell_type": "code",
   "execution_count": 36,
   "metadata": {
    "slideshow": {
     "slide_type": "subslide"
    }
   },
   "outputs": [
    {
     "data": {
      "text/plain": [
       "1.2330385059119882"
      ]
     },
     "execution_count": 36,
     "metadata": {},
     "output_type": "execute_result"
    }
   ],
   "source": [
    "# norms of various orders\n",
    "linalg.norm(A, ord=2)"
   ]
  },
  {
   "cell_type": "code",
   "execution_count": 37,
   "metadata": {},
   "outputs": [
    {
     "data": {
      "text/plain": [
       "1.564897009799607"
      ]
     },
     "execution_count": 37,
     "metadata": {},
     "output_type": "execute_result"
    }
   ],
   "source": [
    "linalg.norm(A, ord=np.Inf)"
   ]
  }
 ],
 "metadata": {
  "celltoolbar": "Slideshow",
  "kernelspec": {
   "display_name": "ml",
   "language": "python",
   "name": "ml"
  },
  "language_info": {
   "codemirror_mode": {
    "name": "ipython",
    "version": 3
   },
   "file_extension": ".py",
   "mimetype": "text/x-python",
   "name": "python",
   "nbconvert_exporter": "python",
   "pygments_lexer": "ipython3",
   "version": "3.7.9"
  }
 },
 "nbformat": 4,
 "nbformat_minor": 2
}
